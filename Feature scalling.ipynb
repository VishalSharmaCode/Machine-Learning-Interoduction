{
 "cells": [
  {
   "cell_type": "markdown",
   "id": "264a125e",
   "metadata": {},
   "source": [
    "# Feature Scaling\n",
    "Feature scaling provides many benifits to our machine learning process"
   ]
  },
  {
   "cell_type": "markdown",
   "id": "ea613bce",
   "metadata": {},
   "source": [
    "1. Some machine learning models that rely on distance metrics require scaling to perform well.\n",
    "2. Benifits of feature scaling\n",
    "    1. Feature scaling improves the convergence of steepest descent algorithm which do not possess the property of scale invarience.\n",
    "    2. If features are on differente scales, certain weights may update faster than others since the feature values x(j) play a role in weight updates.\n",
    "    3. Critical benifits of feature scaling related to gradient descent.\n",
    "    4. There are some ML algos where scaling won't have an effect."
   ]
  },
  {
   "cell_type": "markdown",
   "id": "493933a3",
   "metadata": {},
   "source": [
    "Two main ways to scale features:\n",
    "1. Standaradization\n",
    "    1. Rescales data to have a mean(mue) of 0 and standard deviation(sigma) of 1.\n",
    "2. Normalization\n",
    "    1. Rescales all data values to be between 0-1."
   ]
  },
  {
   "cell_type": "markdown",
   "id": "c1cc96c2",
   "metadata": {},
   "source": [
    "# Standardization\n",
    "1. Rescale data to have a mean(mue) of 0 and standard deviation(sigma) of 1(unit variance).\n",
    "        X(changed) =(X - mue) / sigma.\n",
    "2. Nmaesake can be confusung since this is also reffered to as \"Z-score normalization\"."
   ]
  },
  {
   "cell_type": "markdown",
   "id": "5a543b0f",
   "metadata": {},
   "source": [
    "# Normalization\n",
    "1. Scale all data values to be between 0 and 1.\n",
    "        X(changed) = (X-X(min))/(X(max)-X(min)).\n",
    "2. It is simple and esay to understand.\n"
   ]
  },
  {
   "cell_type": "markdown",
   "id": "13738601",
   "metadata": {},
   "source": [
    "There are amny more methods of scaling features and Scikit Learn provides easy to use classes that \"fit\" and \"transform\" feature data for scaling."
   ]
  },
  {
   "cell_type": "markdown",
   "id": "3d30c79c",
   "metadata": {},
   "source": [
    "1. A .fir() method call simply calculates the necessary statistics(Xmin, Xmax, mean, standard deviation).\n",
    "2. A .transform() call actually scalles data and returns the new scaled version of data. \n"
   ]
  },
  {
   "cell_type": "markdown",
   "id": "fe0a5c7c",
   "metadata": {},
   "source": [
    "1. we only fit to training data.\n",
    "2. Calculating statistical information should only come from traning data.\n",
    "3. Don't want to assume prior knowledge of the test set."
   ]
  },
  {
   "cell_type": "markdown",
   "id": "d49be9f5",
   "metadata": {},
   "source": [
    "Using the full data set would cause data leakage:\n",
    "1. Claculating statistics from full data leads to some information of the test set leaking into the training process upon transform() conversion."
   ]
  },
  {
   "cell_type": "markdown",
   "id": "a2abb48c",
   "metadata": {},
   "source": [
    "# Feature Scaling process:\n",
    "1. Perform train test split\n",
    "2. Fit to training feature data.\n",
    "3. Transform training feature data.\n",
    "4. Transform test feature data."
   ]
  },
  {
   "cell_type": "markdown",
   "id": "2e208b7f",
   "metadata": {},
   "source": [
    "# Do we need to scale the label?\n",
    "1. In general it is not necessary nor advice.\n",
    "2. Normalising the output distribution is altering the defination of the target.\n",
    "3. Predicting a distribution that doesn't mirror your real-world-target.\n",
    "4. Can negatively impact stochastic gradient descent."
   ]
  },
  {
   "cell_type": "markdown",
   "id": "61a465ce",
   "metadata": {},
   "source": [
    "# Cross validation"
   ]
  },
  {
   "cell_type": "markdown",
   "id": "3ca61a3b",
   "metadata": {},
   "source": [
    "It is a more advanced set of methods for splitting data into training and testing sets."
   ]
  },
  {
   "cell_type": "markdown",
   "id": "49f54fd7",
   "metadata": {},
   "source": [
    "# Regularization for Linear Regression"
   ]
  },
  {
   "cell_type": "code",
   "execution_count": 7,
   "id": "90c9655d",
   "metadata": {},
   "outputs": [],
   "source": [
    "import numpy as np\n",
    "import pandas as pd\n",
    "import matplotlib.pyplot as plt\n",
    "import seaborn as sns"
   ]
  },
  {
   "cell_type": "code",
   "execution_count": 8,
   "id": "5f585991",
   "metadata": {},
   "outputs": [],
   "source": [
    "df = pd.read_csv(\"Advertising.csv\")"
   ]
  },
  {
   "cell_type": "code",
   "execution_count": 9,
   "id": "ef41a64f",
   "metadata": {},
   "outputs": [],
   "source": [
    "X= df.drop('sales', axis =1)"
   ]
  },
  {
   "cell_type": "code",
   "execution_count": 10,
   "id": "9a20fb99",
   "metadata": {},
   "outputs": [],
   "source": [
    "y = df['sales']"
   ]
  },
  {
   "cell_type": "code",
   "execution_count": 11,
   "id": "9e28d899",
   "metadata": {},
   "outputs": [],
   "source": [
    "from sklearn.preprocessing import PolynomialFeatures"
   ]
  },
  {
   "cell_type": "code",
   "execution_count": 12,
   "id": "3c7cc3cb",
   "metadata": {},
   "outputs": [],
   "source": [
    "poly_convertor  = PolynomialFeatures(degree=3, include_bias=False)"
   ]
  },
  {
   "cell_type": "code",
   "execution_count": 13,
   "id": "8912b8e5",
   "metadata": {},
   "outputs": [],
   "source": [
    "poly_features = poly_convertor.fit_transform(X)"
   ]
  },
  {
   "cell_type": "code",
   "execution_count": 14,
   "id": "70eb9006",
   "metadata": {},
   "outputs": [
    {
     "data": {
      "text/plain": [
       "(200, 19)"
      ]
     },
     "execution_count": 14,
     "metadata": {},
     "output_type": "execute_result"
    }
   ],
   "source": [
    "poly_features.shape"
   ]
  },
  {
   "cell_type": "code",
   "execution_count": 15,
   "id": "9bc8c0c5",
   "metadata": {},
   "outputs": [],
   "source": [
    "from sklearn.model_selection import train_test_split"
   ]
  },
  {
   "cell_type": "code",
   "execution_count": 19,
   "id": "eee33c5c",
   "metadata": {},
   "outputs": [],
   "source": [
    "X_train, X_test, y_train, y_test = train_test_split(poly_features, y, test_size=0.3, random_state=101)"
   ]
  },
  {
   "cell_type": "code",
   "execution_count": 20,
   "id": "25f4d0d9",
   "metadata": {},
   "outputs": [
    {
     "data": {
      "text/plain": [
       "(140, 19)"
      ]
     },
     "execution_count": 20,
     "metadata": {},
     "output_type": "execute_result"
    }
   ],
   "source": [
    "X_train.shape"
   ]
  },
  {
   "cell_type": "code",
   "execution_count": 21,
   "id": "b49f2a27",
   "metadata": {},
   "outputs": [],
   "source": [
    "from sklearn.preprocessing import StandardScaler"
   ]
  },
  {
   "cell_type": "code",
   "execution_count": 24,
   "id": "ba423444",
   "metadata": {},
   "outputs": [],
   "source": [
    "scaler = StandardScaler()"
   ]
  },
  {
   "cell_type": "code",
   "execution_count": 25,
   "id": "5167e931",
   "metadata": {},
   "outputs": [
    {
     "data": {
      "text/plain": [
       "StandardScaler()"
      ]
     },
     "execution_count": 25,
     "metadata": {},
     "output_type": "execute_result"
    }
   ],
   "source": [
    "scaler.fit(X_train)"
   ]
  },
  {
   "cell_type": "code",
   "execution_count": 26,
   "id": "97c392c8",
   "metadata": {},
   "outputs": [],
   "source": [
    "X_train = scaler.transform(X_train)"
   ]
  },
  {
   "cell_type": "code",
   "execution_count": 27,
   "id": "aae72f67",
   "metadata": {},
   "outputs": [],
   "source": [
    "X_test = scaler.transform(X_test)"
   ]
  },
  {
   "cell_type": "code",
   "execution_count": 28,
   "id": "ae730cf7",
   "metadata": {},
   "outputs": [
    {
     "data": {
      "text/plain": [
       "array([ 0.49300171, -0.33994238,  1.61586707,  0.28407363, -0.02568776,\n",
       "        1.49677566, -0.59023161,  0.41659155,  1.6137853 ,  0.08057172,\n",
       "       -0.05392229,  1.01524393, -0.36986163,  0.52457967,  1.48737034,\n",
       "       -0.66096022, -0.16360242,  0.54694754,  1.37075536])"
      ]
     },
     "execution_count": 28,
     "metadata": {},
     "output_type": "execute_result"
    }
   ],
   "source": [
    "X_train[0]"
   ]
  },
  {
   "cell_type": "code",
   "execution_count": 31,
   "id": "cb9288c3",
   "metadata": {},
   "outputs": [],
   "source": [
    "# poly_features[0]"
   ]
  },
  {
   "cell_type": "code",
   "execution_count": null,
   "id": "335d7146",
   "metadata": {},
   "outputs": [],
   "source": []
  }
 ],
 "metadata": {
  "kernelspec": {
   "display_name": "Python 3 (ipykernel)",
   "language": "python",
   "name": "python3"
  },
  "language_info": {
   "codemirror_mode": {
    "name": "ipython",
    "version": 3
   },
   "file_extension": ".py",
   "mimetype": "text/x-python",
   "name": "python",
   "nbconvert_exporter": "python",
   "pygments_lexer": "ipython3",
   "version": "3.9.7"
  }
 },
 "nbformat": 4,
 "nbformat_minor": 5
}
