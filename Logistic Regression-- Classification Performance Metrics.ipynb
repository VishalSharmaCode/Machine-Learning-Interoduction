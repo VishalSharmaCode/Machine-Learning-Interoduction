{
 "cells": [
  {
   "cell_type": "markdown",
   "id": "bff422da",
   "metadata": {},
   "source": [
    "# Classification Performance Metrics"
   ]
  },
  {
   "cell_type": "markdown",
   "id": "a8be0d78",
   "metadata": {},
   "source": [
    "Confusion Metix Basics"
   ]
  },
  {
   "cell_type": "markdown",
   "id": "442a89c2",
   "metadata": {},
   "source": [
    "It is a measure of the overall classification performance of a machine learning model interpreted as the mean value of sensitivity for all possible values of specificity."
   ]
  },
  {
   "cell_type": "markdown",
   "id": "3edc1d5d",
   "metadata": {},
   "source": [
    "Accuracy Paradox"
   ]
  },
  {
   "cell_type": "markdown",
   "id": "111b7b5e",
   "metadata": {},
   "source": [
    "Any classifier dealing with imbalanced classes has to confront the issue of the accuracy paradox."
   ]
  },
  {
   "cell_type": "markdown",
   "id": "5b1363b2",
   "metadata": {},
   "source": [
    "Imbalanced classes will always result in distroted accuracy reflecting better performance than reflecting better performance than what is truly warranted."
   ]
  },
  {
   "cell_type": "markdown",
   "id": "21e356ba",
   "metadata": {},
   "source": [
    "Recall = (TP) / Total Actual Positives"
   ]
  },
  {
   "cell_type": "markdown",
   "id": "c76f6e0b",
   "metadata": {},
   "source": [
    "Precision = (TP)/Total Predictive Positives"
   ]
  },
  {
   "cell_type": "markdown",
   "id": "71f18269",
   "metadata": {},
   "source": [
    "Recall and precision can help illuminate our performance specifically in regards to the relevent or positive cas."
   ]
  },
  {
   "cell_type": "markdown",
   "id": "1f002578",
   "metadata": {},
   "source": [
    "Depending on the model, there is typically a trade off between precision and recall, which we will explore later on with the ROC curve."
   ]
  },
  {
   "cell_type": "markdown",
   "id": "80ce6b33",
   "metadata": {},
   "source": [
    "Since precision and recall are related to each other through the numerator(TP), We often also report the F1-Score, which is the harmonic mean of precision and recall.\n",
    "1. F = (2*precision * Recall)/ (precision+recall)"
   ]
  },
  {
   "cell_type": "markdown",
   "id": "1d4a0386",
   "metadata": {},
   "source": [
    "The harmonic mean(instead of the normal mean) allows the entire precision or recall ends up being zero."
   ]
  },
  {
   "cell_type": "markdown",
   "id": "fd07f0e1",
   "metadata": {},
   "source": [
    "# ROC curves"
   ]
  },
  {
   "cell_type": "markdown",
   "id": "b8a229c7",
   "metadata": {},
   "source": [
    "An ROC curve (receiver operating characteristic curve) is a graph showing the performance of a classification model at all classification thresholds."
   ]
  },
  {
   "cell_type": "markdown",
   "id": "339dbdfd",
   "metadata": {},
   "source": [
    "AUC - Area Under The Curve, Allows us to compare ROCs for different models."
   ]
  },
  {
   "cell_type": "code",
   "execution_count": 1,
   "id": "5aeb9295",
   "metadata": {},
   "outputs": [],
   "source": [
    "import pandas as pd\n",
    "import numpy as np\n",
    "import matplotlib.pyplot as plt\n",
    "import seaborn as sns"
   ]
  },
  {
   "cell_type": "code",
   "execution_count": 2,
   "id": "e2f77dba",
   "metadata": {},
   "outputs": [],
   "source": [
    "df = pd.read_csv('hearing_test.csv')"
   ]
  },
  {
   "cell_type": "code",
   "execution_count": 3,
   "id": "b44fe053",
   "metadata": {},
   "outputs": [
    {
     "data": {
      "text/html": [
       "<div>\n",
       "<style scoped>\n",
       "    .dataframe tbody tr th:only-of-type {\n",
       "        vertical-align: middle;\n",
       "    }\n",
       "\n",
       "    .dataframe tbody tr th {\n",
       "        vertical-align: top;\n",
       "    }\n",
       "\n",
       "    .dataframe thead th {\n",
       "        text-align: right;\n",
       "    }\n",
       "</style>\n",
       "<table border=\"1\" class=\"dataframe\">\n",
       "  <thead>\n",
       "    <tr style=\"text-align: right;\">\n",
       "      <th></th>\n",
       "      <th>age</th>\n",
       "      <th>physical_score</th>\n",
       "      <th>test_result</th>\n",
       "    </tr>\n",
       "  </thead>\n",
       "  <tbody>\n",
       "    <tr>\n",
       "      <th>0</th>\n",
       "      <td>33.0</td>\n",
       "      <td>40.7</td>\n",
       "      <td>1</td>\n",
       "    </tr>\n",
       "    <tr>\n",
       "      <th>1</th>\n",
       "      <td>50.0</td>\n",
       "      <td>37.2</td>\n",
       "      <td>1</td>\n",
       "    </tr>\n",
       "    <tr>\n",
       "      <th>2</th>\n",
       "      <td>52.0</td>\n",
       "      <td>24.7</td>\n",
       "      <td>0</td>\n",
       "    </tr>\n",
       "    <tr>\n",
       "      <th>3</th>\n",
       "      <td>56.0</td>\n",
       "      <td>31.0</td>\n",
       "      <td>0</td>\n",
       "    </tr>\n",
       "    <tr>\n",
       "      <th>4</th>\n",
       "      <td>35.0</td>\n",
       "      <td>42.9</td>\n",
       "      <td>1</td>\n",
       "    </tr>\n",
       "  </tbody>\n",
       "</table>\n",
       "</div>"
      ],
      "text/plain": [
       "    age  physical_score  test_result\n",
       "0  33.0            40.7            1\n",
       "1  50.0            37.2            1\n",
       "2  52.0            24.7            0\n",
       "3  56.0            31.0            0\n",
       "4  35.0            42.9            1"
      ]
     },
     "execution_count": 3,
     "metadata": {},
     "output_type": "execute_result"
    }
   ],
   "source": [
    "df.head()"
   ]
  },
  {
   "cell_type": "code",
   "execution_count": 4,
   "id": "8bf1a8b5",
   "metadata": {},
   "outputs": [],
   "source": [
    "X  = df.drop('test_result', axis = 1)"
   ]
  },
  {
   "cell_type": "code",
   "execution_count": 5,
   "id": "78bd8e2f",
   "metadata": {},
   "outputs": [],
   "source": [
    "y = df['test_result']"
   ]
  },
  {
   "cell_type": "code",
   "execution_count": 6,
   "id": "a2d17200",
   "metadata": {},
   "outputs": [],
   "source": [
    "from sklearn.model_selection import train_test_split"
   ]
  },
  {
   "cell_type": "code",
   "execution_count": 7,
   "id": "1ad7ea33",
   "metadata": {},
   "outputs": [],
   "source": [
    "from sklearn.preprocessing import StandardScaler"
   ]
  },
  {
   "cell_type": "code",
   "execution_count": 8,
   "id": "84be255c",
   "metadata": {},
   "outputs": [],
   "source": [
    "X_train, X_test, y_train, y_test = train_test_split(X, y, test_size=0.1, random_state=101)"
   ]
  },
  {
   "cell_type": "code",
   "execution_count": 9,
   "id": "0c2e8b06",
   "metadata": {},
   "outputs": [],
   "source": [
    "scaler = StandardScaler()"
   ]
  },
  {
   "cell_type": "code",
   "execution_count": 10,
   "id": "cc186761",
   "metadata": {},
   "outputs": [],
   "source": [
    "scaled_X_train = scaler.fit_transform(X_train)"
   ]
  },
  {
   "cell_type": "code",
   "execution_count": 11,
   "id": "b85a5e06",
   "metadata": {},
   "outputs": [],
   "source": [
    "scaled_X_test  = scaler.transform(X_test)"
   ]
  },
  {
   "cell_type": "code",
   "execution_count": 12,
   "id": "bc8d5fe3",
   "metadata": {},
   "outputs": [],
   "source": [
    "from sklearn.linear_model import LogisticRegression"
   ]
  },
  {
   "cell_type": "code",
   "execution_count": 13,
   "id": "172167c7",
   "metadata": {},
   "outputs": [],
   "source": [
    "log_model = LogisticRegression()"
   ]
  },
  {
   "cell_type": "code",
   "execution_count": 14,
   "id": "04c1d2a7",
   "metadata": {},
   "outputs": [
    {
     "data": {
      "text/plain": [
       "LogisticRegression()"
      ]
     },
     "execution_count": 14,
     "metadata": {},
     "output_type": "execute_result"
    }
   ],
   "source": [
    "log_model.fit(scaled_X_train, y_train)"
   ]
  },
  {
   "cell_type": "code",
   "execution_count": 15,
   "id": "a69d6a83",
   "metadata": {},
   "outputs": [
    {
     "data": {
      "text/plain": [
       "array([[-0.94953524,  3.45991194]])"
      ]
     },
     "execution_count": 15,
     "metadata": {},
     "output_type": "execute_result"
    }
   ],
   "source": [
    "log_model.coef_"
   ]
  },
  {
   "cell_type": "code",
   "execution_count": 16,
   "id": "fb0a36b4",
   "metadata": {},
   "outputs": [
    {
     "data": {
      "text/html": [
       "<div>\n",
       "<style scoped>\n",
       "    .dataframe tbody tr th:only-of-type {\n",
       "        vertical-align: middle;\n",
       "    }\n",
       "\n",
       "    .dataframe tbody tr th {\n",
       "        vertical-align: top;\n",
       "    }\n",
       "\n",
       "    .dataframe thead th {\n",
       "        text-align: right;\n",
       "    }\n",
       "</style>\n",
       "<table border=\"1\" class=\"dataframe\">\n",
       "  <thead>\n",
       "    <tr style=\"text-align: right;\">\n",
       "      <th></th>\n",
       "      <th>age</th>\n",
       "      <th>physical_score</th>\n",
       "      <th>test_result</th>\n",
       "    </tr>\n",
       "  </thead>\n",
       "  <tbody>\n",
       "    <tr>\n",
       "      <th>0</th>\n",
       "      <td>33.0</td>\n",
       "      <td>40.7</td>\n",
       "      <td>1</td>\n",
       "    </tr>\n",
       "    <tr>\n",
       "      <th>1</th>\n",
       "      <td>50.0</td>\n",
       "      <td>37.2</td>\n",
       "      <td>1</td>\n",
       "    </tr>\n",
       "    <tr>\n",
       "      <th>2</th>\n",
       "      <td>52.0</td>\n",
       "      <td>24.7</td>\n",
       "      <td>0</td>\n",
       "    </tr>\n",
       "    <tr>\n",
       "      <th>3</th>\n",
       "      <td>56.0</td>\n",
       "      <td>31.0</td>\n",
       "      <td>0</td>\n",
       "    </tr>\n",
       "    <tr>\n",
       "      <th>4</th>\n",
       "      <td>35.0</td>\n",
       "      <td>42.9</td>\n",
       "      <td>1</td>\n",
       "    </tr>\n",
       "  </tbody>\n",
       "</table>\n",
       "</div>"
      ],
      "text/plain": [
       "    age  physical_score  test_result\n",
       "0  33.0            40.7            1\n",
       "1  50.0            37.2            1\n",
       "2  52.0            24.7            0\n",
       "3  56.0            31.0            0\n",
       "4  35.0            42.9            1"
      ]
     },
     "execution_count": 16,
     "metadata": {},
     "output_type": "execute_result"
    }
   ],
   "source": [
    "df.head()"
   ]
  },
  {
   "cell_type": "code",
   "execution_count": 17,
   "id": "27497d69",
   "metadata": {},
   "outputs": [],
   "source": [
    "from sklearn.metrics import accuracy_score, confusion_matrix, classification_report"
   ]
  },
  {
   "cell_type": "code",
   "execution_count": 18,
   "id": "decefc9c",
   "metadata": {},
   "outputs": [],
   "source": [
    "y_pred =log_model.predict(scaled_X_test)"
   ]
  },
  {
   "cell_type": "code",
   "execution_count": 21,
   "id": "c11f52c2",
   "metadata": {},
   "outputs": [
    {
     "data": {
      "text/plain": [
       "0.93"
      ]
     },
     "execution_count": 21,
     "metadata": {},
     "output_type": "execute_result"
    }
   ],
   "source": [
    "accuracy_score(y_test, y_pred)"
   ]
  },
  {
   "cell_type": "code",
   "execution_count": 22,
   "id": "ec0e552f",
   "metadata": {},
   "outputs": [
    {
     "data": {
      "text/plain": [
       "array([[172,  21],\n",
       "       [ 14, 293]], dtype=int64)"
      ]
     },
     "execution_count": 22,
     "metadata": {},
     "output_type": "execute_result"
    }
   ],
   "source": [
    "confusion_matrix(y_test, y_pred)"
   ]
  },
  {
   "cell_type": "code",
   "execution_count": 23,
   "id": "84e82dfb",
   "metadata": {},
   "outputs": [],
   "source": [
    "from sklearn.metrics import plot_confusion_matrix"
   ]
  },
  {
   "cell_type": "code",
   "execution_count": 25,
   "id": "fd46b535",
   "metadata": {},
   "outputs": [
    {
     "data": {
      "text/plain": [
       "<sklearn.metrics._plot.confusion_matrix.ConfusionMatrixDisplay at 0x2728742a1c0>"
      ]
     },
     "execution_count": 25,
     "metadata": {},
     "output_type": "execute_result"
    },
    {
     "data": {
      "image/png": "[encoded data removed]",
      "text/plain": [
       "<Figure size 432x288 with 2 Axes>"
      ]
     },
     "metadata": {
      "needs_background": "light"
     },
     "output_type": "display_data"
    }
   ],
   "source": [
    "plot_confusion_matrix(log_model,scaled_X_test, y_test)"
   ]
  },
  {
   "cell_type": "code",
   "execution_count": 26,
   "id": "9b2c7c56",
   "metadata": {},
   "outputs": [
    {
     "data": {
      "text/plain": [
       "<sklearn.metrics._plot.confusion_matrix.ConfusionMatrixDisplay at 0x272883e6a60>"
      ]
     },
     "execution_count": 26,
     "metadata": {},
     "output_type": "execute_result"
    },
    {
     "data": {
      "image/png": "[encoded data removed]",
      "text/plain": [
       "<Figure size 432x288 with 2 Axes>"
      ]
     },
     "metadata": {
      "needs_background": "light"
     },
     "output_type": "display_data"
    }
   ],
   "source": [
    "plot_confusion_matrix(log_model,scaled_X_test, y_test, normalize='all')"
   ]
  },
  {
   "cell_type": "code",
   "execution_count": 27,
   "id": "4f6a3634",
   "metadata": {},
   "outputs": [
    {
     "name": "stdout",
     "output_type": "stream",
     "text": [
      "              precision    recall  f1-score   support\n",
      "\n",
      "           0       0.92      0.89      0.91       193\n",
      "           1       0.93      0.95      0.94       307\n",
      "\n",
      "    accuracy                           0.93       500\n",
      "   macro avg       0.93      0.92      0.93       500\n",
      "weighted avg       0.93      0.93      0.93       500\n",
      "\n"
     ]
    }
   ],
   "source": [
    "print(classification_report(y_test, y_pred))"
   ]
  },
  {
   "cell_type": "code",
   "execution_count": 28,
   "id": "77c112c8",
   "metadata": {},
   "outputs": [],
   "source": [
    "from sklearn.metrics import precision_score, recall_score"
   ]
  },
  {
   "cell_type": "code",
   "execution_count": 29,
   "id": "0eaed70e",
   "metadata": {},
   "outputs": [
    {
     "data": {
      "text/plain": [
       "0.9331210191082803"
      ]
     },
     "execution_count": 29,
     "metadata": {},
     "output_type": "execute_result"
    }
   ],
   "source": [
    "precision_score(y_test, y_pred)"
   ]
  },
  {
   "cell_type": "code",
   "execution_count": 30,
   "id": "fa3ba1d5",
   "metadata": {},
   "outputs": [
    {
     "data": {
      "text/plain": [
       "0.9543973941368078"
      ]
     },
     "execution_count": 30,
     "metadata": {},
     "output_type": "execute_result"
    }
   ],
   "source": [
    "recall_score(y_test, y_pred)"
   ]
  },
  {
   "cell_type": "code",
   "execution_count": 31,
   "id": "f720a1b0",
   "metadata": {},
   "outputs": [],
   "source": [
    "from sklearn.metrics import plot_precision_recall_curve, plot_roc_curve"
   ]
  },
  {
   "cell_type": "code",
   "execution_count": 32,
   "id": "b4097a24",
   "metadata": {},
   "outputs": [
    {
     "data": {
      "text/plain": [
       "<sklearn.metrics._plot.roc_curve.RocCurveDisplay at 0x27288ec1fa0>"
      ]
     },
     "execution_count": 32,
     "metadata": {},
     "output_type": "execute_result"
    },
    {
     "data": {
      "image/png": "[encoded data removed]",
      "text/plain": [
       "<Figure size 432x288 with 1 Axes>"
      ]
     },
     "metadata": {
      "needs_background": "light"
     },
     "output_type": "display_data"
    }
   ],
   "source": [
    "plot_roc_curve(log_model, scaled_X_test, y_test)"
   ]
  },
  {
   "cell_type": "code",
   "execution_count": 34,
   "id": "8e86112a",
   "metadata": {},
   "outputs": [
    {
     "data": {
      "text/plain": [
       "<sklearn.metrics._plot.roc_curve.RocCurveDisplay at 0x2728984d940>"
      ]
     },
     "execution_count": 34,
     "metadata": {},
     "output_type": "execute_result"
    },
    {
     "data": {
      "image/png": "[encoded data removed]",
      "text/plain": [
       "<Figure size 2400x1600 with 1 Axes>"
      ]
     },
     "metadata": {
      "needs_background": "light"
     },
     "output_type": "display_data"
    }
   ],
   "source": [
    "fig, ax =plt.subplots(figsize = (12,8), dpi = 200)\n",
    "plot_roc_curve(log_model, scaled_X_test, y_test, ax = ax)"
   ]
  },
  {
   "cell_type": "code",
   "execution_count": 35,
   "id": "f5034167",
   "metadata": {},
   "outputs": [
    {
     "data": {
      "text/plain": [
       "<sklearn.metrics._plot.precision_recall_curve.PrecisionRecallDisplay at 0x27288de2820>"
      ]
     },
     "execution_count": 35,
     "metadata": {},
     "output_type": "execute_result"
    },
    {
     "data": {
      "image/png": "[encoded data removed]",
      "text/plain": [
       "<Figure size 432x288 with 1 Axes>"
      ]
     },
     "metadata": {
      "needs_background": "light"
     },
     "output_type": "display_data"
    }
   ],
   "source": [
    "plot_precision_recall_curve(log_model, scaled_X_test, y_test)"
   ]
  },
  {
   "cell_type": "code",
   "execution_count": 36,
   "id": "5920525e",
   "metadata": {},
   "outputs": [
    {
     "data": {
      "text/plain": [
       "array([0.02384343, 0.97615657])"
      ]
     },
     "execution_count": 36,
     "metadata": {},
     "output_type": "execute_result"
    }
   ],
   "source": [
    "log_model.predict_proba(scaled_X_test)[0]"
   ]
  },
  {
   "cell_type": "code",
   "execution_count": 37,
   "id": "7f071d86",
   "metadata": {},
   "outputs": [
    {
     "data": {
      "text/plain": [
       "1"
      ]
     },
     "execution_count": 37,
     "metadata": {},
     "output_type": "execute_result"
    }
   ],
   "source": [
    "y_test[0]"
   ]
  },
  {
   "cell_type": "code",
   "execution_count": null,
   "id": "4073f6ad",
   "metadata": {},
   "outputs": [],
   "source": []
  }
 ],
 "metadata": {
  "kernelspec": {
   "display_name": "Python 3 (ipykernel)",
   "language": "python",
   "name": "python3"
  },
  "language_info": {
   "codemirror_mode": {
    "name": "ipython",
    "version": 3
   },
   "file_extension": ".py",
   "mimetype": "text/x-python",
   "name": "python",
   "nbconvert_exporter": "python",
   "pygments_lexer": "ipython3",
   "version": "3.9.7"
  }
 },
 "nbformat": 4,
 "nbformat_minor": 5
}
